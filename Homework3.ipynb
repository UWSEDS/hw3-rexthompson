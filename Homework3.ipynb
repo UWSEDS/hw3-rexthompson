{
 "cells": [
  {
   "cell_type": "markdown",
   "metadata": {},
   "source": [
    "# Homework 3\n",
    "Rex Thompson  \n",
    "DATA 515 - Spring 2017  \n",
    "4/19/17"
   ]
  },
  {
   "cell_type": "markdown",
   "metadata": {},
   "source": [
    "## Initial Setup and Data Import"
   ]
  },
  {
   "cell_type": "code",
   "execution_count": 1,
   "metadata": {
    "collapsed": true
   },
   "outputs": [],
   "source": [
    "# library imports and inline plot setting\n",
    "import pandas as pd\n",
    "import matplotlib.pyplot as plt\n",
    "import numpy as np\n",
    "%matplotlib inline"
   ]
  },
  {
   "cell_type": "code",
   "execution_count": 2,
   "metadata": {
    "collapsed": false,
    "scrolled": true
   },
   "outputs": [],
   "source": [
    "# data import\n",
    "df = pd.read_csv(\"2015_trip_data.csv\")"
   ]
  },
  {
   "cell_type": "code",
   "execution_count": 3,
   "metadata": {
    "collapsed": true
   },
   "outputs": [],
   "source": [
    "# pull out DatetimeIndex\n",
    "starttime = pd.DatetimeIndex(df['starttime'])\n",
    "stoptime = pd.DatetimeIndex(df['stoptime'])"
   ]
  },
  {
   "cell_type": "code",
   "execution_count": 4,
   "metadata": {
    "collapsed": true
   },
   "outputs": [],
   "source": [
    "# append dates to dataframe\n",
    "df['date_start'] = starttime.date\n",
    "df['date_stop'] = stoptime.date"
   ]
  },
  {
   "cell_type": "code",
   "execution_count": 5,
   "metadata": {
    "collapsed": false
   },
   "outputs": [],
   "source": [
    "# append day of week to dataframe\n",
    "df['dayofweek_start'] = starttime.dayofweek\n",
    "df['dayofweek_stop'] = stoptime.dayofweek"
   ]
  },
  {
   "cell_type": "code",
   "execution_count": 6,
   "metadata": {
    "collapsed": false
   },
   "outputs": [],
   "source": [
    "# return frequency of each day of the week\n",
    "dateCounts_from = df.groupby(['dayofweek_start'])['date_start'].nunique()\n",
    "dateCounts_to = df.groupby(['dayofweek_stop'])['date_stop'].nunique()"
   ]
  },
  {
   "cell_type": "code",
   "execution_count": 7,
   "metadata": {
    "collapsed": false
   },
   "outputs": [
    {
     "data": {
      "text/html": [
       "<div>\n",
       "<table border=\"1\" class=\"dataframe\">\n",
       "  <thead>\n",
       "    <tr style=\"text-align: right;\">\n",
       "      <th></th>\n",
       "      <th></th>\n",
       "      <th>From</th>\n",
       "      <th>To</th>\n",
       "      <th>Net</th>\n",
       "    </tr>\n",
       "    <tr>\n",
       "      <th>stationID</th>\n",
       "      <th>dayOfWeek</th>\n",
       "      <th></th>\n",
       "      <th></th>\n",
       "      <th></th>\n",
       "    </tr>\n",
       "  </thead>\n",
       "  <tbody>\n",
       "    <tr>\n",
       "      <th rowspan=\"7\" valign=\"top\">BT-01</th>\n",
       "      <th>0</th>\n",
       "      <td>15.207547</td>\n",
       "      <td>14.924528</td>\n",
       "      <td>-0.283019</td>\n",
       "    </tr>\n",
       "    <tr>\n",
       "      <th>1</th>\n",
       "      <td>13.923077</td>\n",
       "      <td>12.980769</td>\n",
       "      <td>-0.942308</td>\n",
       "    </tr>\n",
       "    <tr>\n",
       "      <th>2</th>\n",
       "      <td>13.057692</td>\n",
       "      <td>13.384615</td>\n",
       "      <td>0.326923</td>\n",
       "    </tr>\n",
       "    <tr>\n",
       "      <th>3</th>\n",
       "      <td>15.403846</td>\n",
       "      <td>15.211538</td>\n",
       "      <td>-0.192308</td>\n",
       "    </tr>\n",
       "    <tr>\n",
       "      <th>4</th>\n",
       "      <td>17.711538</td>\n",
       "      <td>16.403846</td>\n",
       "      <td>-1.307692</td>\n",
       "    </tr>\n",
       "    <tr>\n",
       "      <th>5</th>\n",
       "      <td>22.076923</td>\n",
       "      <td>21.942308</td>\n",
       "      <td>-0.134615</td>\n",
       "    </tr>\n",
       "    <tr>\n",
       "      <th>6</th>\n",
       "      <td>15.500000</td>\n",
       "      <td>16.403846</td>\n",
       "      <td>0.903846</td>\n",
       "    </tr>\n",
       "    <tr>\n",
       "      <th rowspan=\"3\" valign=\"top\">BT-03</th>\n",
       "      <th>0</th>\n",
       "      <td>10.886792</td>\n",
       "      <td>10.075472</td>\n",
       "      <td>-0.811321</td>\n",
       "    </tr>\n",
       "    <tr>\n",
       "      <th>1</th>\n",
       "      <td>11.423077</td>\n",
       "      <td>9.865385</td>\n",
       "      <td>-1.557692</td>\n",
       "    </tr>\n",
       "    <tr>\n",
       "      <th>2</th>\n",
       "      <td>11.923077</td>\n",
       "      <td>10.096154</td>\n",
       "      <td>-1.826923</td>\n",
       "    </tr>\n",
       "  </tbody>\n",
       "</table>\n",
       "</div>"
      ],
      "text/plain": [
       "                          From         To       Net\n",
       "stationID dayOfWeek                                \n",
       "BT-01     0          15.207547  14.924528 -0.283019\n",
       "          1          13.923077  12.980769 -0.942308\n",
       "          2          13.057692  13.384615  0.326923\n",
       "          3          15.403846  15.211538 -0.192308\n",
       "          4          17.711538  16.403846 -1.307692\n",
       "          5          22.076923  21.942308 -0.134615\n",
       "          6          15.500000  16.403846  0.903846\n",
       "BT-03     0          10.886792  10.075472 -0.811321\n",
       "          1          11.423077   9.865385 -1.557692\n",
       "          2          11.923077  10.096154 -1.826923"
      ]
     },
     "execution_count": 7,
     "metadata": {},
     "output_type": "execute_result"
    }
   ],
   "source": [
    "# pull out counts by day of week for each station\n",
    "netBikes = pd.DataFrame({'From':df.groupby(['from_station_id','dayofweek_start']).size() / dateCounts_from,\n",
    "                         'To':df.groupby(['to_station_id','dayofweek_stop']).size() / dateCounts_to})\n",
    "netBikes['Net'] = netBikes['To']-netBikes['From']\n",
    "netBikes.index.names = ['stationID','dayOfWeek']\n",
    "netBikes.head(10)"
   ]
  },
  {
   "cell_type": "code",
   "execution_count": 8,
   "metadata": {
    "collapsed": false
   },
   "outputs": [],
   "source": [
    "# drop counts from 'Pronto shop'\n",
    "netBikes = netBikes.drop('Pronto shop')"
   ]
  },
  {
   "cell_type": "code",
   "execution_count": 9,
   "metadata": {
    "collapsed": false
   },
   "outputs": [],
   "source": [
    "# define function for single bar plot\n",
    "def plot_bar1(df, column, opts):\n",
    "    \"\"\"\n",
    "    Does a bar plot for a single column.\n",
    "    :param pd.DataFrame df: dataframe to plot\n",
    "    :param str column: name of the column to plot\n",
    "    :param dict opts: key is plot attribute\n",
    "    \"\"\"\n",
    "    n_groups = len(df.index)\n",
    "    index = np.arange(n_groups)  # The \"raw\" x-axis of the bar plot\n",
    "    rects1 = plt.bar(index, df[column])\n",
    "    if 'xlabel' in opts:\n",
    "        plt.xlabel(opts['xlabel'])\n",
    "    if 'ylabel' in opts:\n",
    "        plt.ylabel(opts['ylabel'])\n",
    "    if 'xticks' in opts and opts['xticks']:\n",
    "        plt.xticks(index, df.index)  # Convert \"raw\" x-axis into labels\n",
    "        _, labels = plt.xticks()  # Get the new labels of the plot\n",
    "        plt.setp(labels, rotation=90)  # Rotate labels to make them readable\n",
    "    else:\n",
    "        labels = ['' for x in df.index]\n",
    "        plt.xticks(index, labels)   \n",
    "    if 'ylim' in opts:\n",
    "        plt.ylim(opts['ylim'])\n",
    "    if 'title' in opts:\n",
    "        plt.title(opts['title'])"
   ]
  },
  {
   "cell_type": "code",
   "execution_count": 10,
   "metadata": {
    "collapsed": false
   },
   "outputs": [],
   "source": [
    "# define function to plot all 7 days of the week\n",
    "def plotStatsByDay(df, column, opts):\n",
    "    \"\"\"\n",
    "    Plots statistics by station for every day of the week.\n",
    "    :param pd.DataFrame df: dataframe of counts with indexes stationID and dayOfWeek\n",
    "    :param str column: names of the column to plot\n",
    "    :param dict opts: key is plot attribute\n",
    "    \"\"\"\n",
    "    dayOfWeek={0:'Monday', 1:'Tuesday', 2:'Wednesday', 3:'Thursday', 4:'Friday', 5:'Saturday', 6:'Sunday'}\n",
    "    local_opts = dict(opts)  # Make a deep copy of the object\n",
    "    idx = 0\n",
    "    for day in range(7):\n",
    "        dfSubset = df.xs(day, level=1)\n",
    "        local_opts['title'] = dayOfWeek.get(idx)\n",
    "        local_opts['xticks'] = False\n",
    "        local_opts['xlabel'] = ''\n",
    "        idx += 1\n",
    "        if idx == 7:\n",
    "            local_opts['xticks'] = True\n",
    "            local_opts['xlabel'] = opts['xlabel']\n",
    "        else:\n",
    "            pass\n",
    "        plt.subplot(7, 1, idx)\n",
    "        plt.tight_layout()\n",
    "        plot_bar1(dfSubset, column, local_opts)"
   ]
  },
  {
   "cell_type": "code",
   "execution_count": 12,
   "metadata": {
    "collapsed": false
   },
   "outputs": [
    {
     "data": {
      "image/png": "[encoded data removed]",
      "text/plain": [
       "<matplotlib.figure.Figure at 0x112e58518>"
      ]
     },
     "metadata": {},
     "output_type": "display_data"
    }
   ],
   "source": [
    "# create the plots\n",
    "fig = plt.figure(figsize=(12, 10))  # Controls global properties of the bar plot\n",
    "opts = {'xlabel': 'Station ID', 'ylabel': 'Mean Diff','ylim':[-14,14]}\n",
    "plotStatsByDay(netBikes, 'Net', opts)"
   ]
  },
  {
   "cell_type": "code",
   "execution_count": null,
   "metadata": {
    "collapsed": true
   },
   "outputs": [],
   "source": []
  }
 ],
 "metadata": {
  "anaconda-cloud": {},
  "kernelspec": {
   "display_name": "Python 3",
   "language": "python",
   "name": "python3"
  },
  "language_info": {
   "codemirror_mode": {
    "name": "ipython",
    "version": 3
   },
   "file_extension": ".py",
   "mimetype": "text/x-python",
   "name": "python",
   "nbconvert_exporter": "python",
   "pygments_lexer": "ipython3",
   "version": "3.6.0"
  }
 },
 "nbformat": 4,
 "nbformat_minor": 0
}
